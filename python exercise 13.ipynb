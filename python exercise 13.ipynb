{
  "nbformat": 4,
  "nbformat_minor": 0,
  "metadata": {
    "colab": {
      "provenance": []
    },
    "kernelspec": {
      "name": "python3",
      "display_name": "Python 3"
    },
    "language_info": {
      "name": "python"
    }
  },
  "cells": [
    {
      "cell_type": "code",
      "execution_count": 5,
      "metadata": {
        "id": "1EsdAshQhFI6"
      },
      "outputs": [],
      "source": [
        "## sum of square.\n",
        "\n",
        "def square(nums):\n",
        "  sum = 0\n",
        "  for i in range(nums+1):\n",
        "    sum = sum+(i**2)\n",
        "  return sum\n",
        "\n"
      ]
    },
    {
      "cell_type": "code",
      "source": [
        "square(3)"
      ],
      "metadata": {
        "colab": {
          "base_uri": "https://localhost:8080/"
        },
        "id": "m5XpEttWioMA",
        "outputId": "d9d1532b-c5e6-4831-fc27-4a5b8ff24a57"
      },
      "execution_count": 6,
      "outputs": [
        {
          "output_type": "execute_result",
          "data": {
            "text/plain": [
              "14"
            ]
          },
          "metadata": {},
          "execution_count": 6
        }
      ]
    },
    {
      "cell_type": "code",
      "source": [
        "def square_num(num):\n",
        "  sum = 0\n",
        "  for i in range(num+1):\n",
        "    square_num = i**2\n",
        "    sum = sum+square_num\n",
        "  return sum\n",
        "\n",
        "\n",
        "nums = int(input(\"enter the value of num:\"))\n",
        "\n",
        "print(square_num(nums))"
      ],
      "metadata": {
        "colab": {
          "base_uri": "https://localhost:8080/"
        },
        "id": "GaTvkqSIi6WU",
        "outputId": "7bb5b365-cc19-492d-e67a-e36bd07b27eb"
      },
      "execution_count": 7,
      "outputs": [
        {
          "output_type": "stream",
          "name": "stdout",
          "text": [
            "enter the value of num:5\n",
            "55\n"
          ]
        }
      ]
    },
    {
      "cell_type": "code",
      "source": [
        "def summation(nums):\n",
        "  sum = 0\n",
        "  for num in numbers:\n",
        "    sum = sum+num\n",
        "  return sum\n",
        "\n",
        "numbers = [3,4,5,62,3,4,5,6,7,8,9]\n",
        "print(summation(numbers))"
      ],
      "metadata": {
        "colab": {
          "base_uri": "https://localhost:8080/"
        },
        "id": "ZurfTYWJj7ak",
        "outputId": "c871f684-db61-49a9-dcea-54e1279971db"
      },
      "execution_count": 9,
      "outputs": [
        {
          "output_type": "stream",
          "name": "stdout",
          "text": [
            "116\n"
          ]
        }
      ]
    },
    {
      "cell_type": "code",
      "source": [
        "list1 = [3,4,2,1,2,3,4,5,6,7,8,9]\n",
        "def sums(num):\n",
        "  sum = 0\n",
        "  for num in list1:\n",
        "    sum = sum+num\n",
        "  return sum\n",
        "\n",
        "result = sums(list1)\n",
        "print(result)"
      ],
      "metadata": {
        "colab": {
          "base_uri": "https://localhost:8080/"
        },
        "id": "bmmXiaJqj7dF",
        "outputId": "84142b52-912b-4ecc-f678-58449dfe66e4"
      },
      "execution_count": 10,
      "outputs": [
        {
          "output_type": "stream",
          "name": "stdout",
          "text": [
            "54\n"
          ]
        }
      ]
    },
    {
      "cell_type": "code",
      "source": [
        "## Greatest Common factor.\n",
        "\n",
        "def gcd_num(x,y):\n",
        "  smaller = min(x,y)\n",
        "  gcd = 1\n",
        "  for i in range(1,smaller+1):\n",
        "    if x%i==0 and y%i==0:\n",
        "      gcd = i\n",
        "  return gcd\n"
      ],
      "metadata": {
        "id": "JT8FzkKXlMUA"
      },
      "execution_count": 11,
      "outputs": []
    },
    {
      "cell_type": "code",
      "source": [
        "gcd_num(25,20)"
      ],
      "metadata": {
        "colab": {
          "base_uri": "https://localhost:8080/"
        },
        "id": "ciJbFE6ej7fq",
        "outputId": "76ff83b7-d4f6-4b34-accd-9226c3a63db5"
      },
      "execution_count": 12,
      "outputs": [
        {
          "output_type": "execute_result",
          "data": {
            "text/plain": [
              "5"
            ]
          },
          "metadata": {},
          "execution_count": 12
        }
      ]
    },
    {
      "cell_type": "code",
      "source": [
        "gcd_num(8,12)"
      ],
      "metadata": {
        "colab": {
          "base_uri": "https://localhost:8080/"
        },
        "id": "tcqwNbaxj7iA",
        "outputId": "f30714e2-3f50-4152-f564-4953e658f969"
      },
      "execution_count": 13,
      "outputs": [
        {
          "output_type": "execute_result",
          "data": {
            "text/plain": [
              "4"
            ]
          },
          "metadata": {},
          "execution_count": 13
        }
      ]
    },
    {
      "cell_type": "code",
      "source": [
        "lcm = (8*12)//gcd_num(8,12)\n",
        "print(lcm)"
      ],
      "metadata": {
        "colab": {
          "base_uri": "https://localhost:8080/"
        },
        "id": "yDdNvXxFj7kY",
        "outputId": "247a123a-2d43-4ab0-ae69-1c2bce2f2d17"
      },
      "execution_count": 15,
      "outputs": [
        {
          "output_type": "stream",
          "name": "stdout",
          "text": [
            "24\n"
          ]
        }
      ]
    },
    {
      "cell_type": "code",
      "source": [
        "import math\n",
        "\n"
      ],
      "metadata": {
        "id": "Gr68bq71j7nt"
      },
      "execution_count": 16,
      "outputs": []
    },
    {
      "cell_type": "code",
      "source": [
        "gcd = math.gcd(25,20)\n",
        "print(gcd)"
      ],
      "metadata": {
        "colab": {
          "base_uri": "https://localhost:8080/"
        },
        "id": "tit1KBm_nT_W",
        "outputId": "f08fe2e5-b9e7-46e7-cd3d-f044ada6215c"
      },
      "execution_count": 17,
      "outputs": [
        {
          "output_type": "stream",
          "name": "stdout",
          "text": [
            "5\n"
          ]
        }
      ]
    },
    {
      "cell_type": "code",
      "source": [
        "## armstrong numbers:\n",
        "\n",
        "\n",
        "num = int(input(\"enter the value:\"))\n",
        "sum = 0\n",
        "temp = num\n",
        "while temp>0:\n",
        "  digit = temp%10\n",
        "  cubic = digit**3\n",
        "  sum = sum+cubic\n",
        "  temp//=10\n",
        "  if sum==num:\n",
        "    print(\"this is a armstrong numbers:\")\n",
        "    break\n",
        "else:\n",
        "  print(\"this is not a armstrong numbers:\")"
      ],
      "metadata": {
        "colab": {
          "base_uri": "https://localhost:8080/"
        },
        "id": "92-dpcncn0tK",
        "outputId": "1557e347-88ce-4471-d490-884a6e42409e"
      },
      "execution_count": 18,
      "outputs": [
        {
          "output_type": "stream",
          "name": "stdout",
          "text": [
            "enter the value:153\n",
            "this is a armstrong numbers:\n"
          ]
        }
      ]
    },
    {
      "cell_type": "code",
      "source": [
        "lower = int(input(\"enter the numbers:\"))\n",
        "upper = int(input(\"enter the numbers:\"))\n",
        "for num in range(lower,upper+1):\n",
        "  sum = 0\n",
        "  temp = num\n",
        "  while temp>0:\n",
        "    digit = temp%10\n",
        "    cubic = digit**3\n",
        "    sum = sum+cubic\n",
        "    temp//=10\n",
        "  if sum==num:\n",
        "    print(num)\n",
        "\n",
        ""
      ],
      "metadata": {
        "colab": {
          "base_uri": "https://localhost:8080/"
        },
        "id": "8e0hX65in0vw",
        "outputId": "38263bf8-c7dd-4bc8-96f1-a542909f85a7"
      },
      "execution_count": 25,
      "outputs": [
        {
          "output_type": "stream",
          "name": "stdout",
          "text": [
            "enter the numbers:100\n",
            "enter the numbers:1000\n",
            "153\n",
            "370\n",
            "371\n",
            "407\n"
          ]
        }
      ]
    },
    {
      "cell_type": "code",
      "source": [
        "## check palindrome numbers:\n",
        "## A palindrome is a word , pahse,or sequance that reads the same backward as forward.for example the word-madam\n",
        "\n",
        "\n",
        "string = \"Bharat is my country\"\n",
        "\n",
        "rev_str = string[::-1]\n",
        "print(rev_str)"
      ],
      "metadata": {
        "colab": {
          "base_uri": "https://localhost:8080/"
        },
        "id": "Ya-w8ZK7n0zJ",
        "outputId": "f1914941-f39c-41ba-fc19-bd1dd9e9ddfa"
      },
      "execution_count": 26,
      "outputs": [
        {
          "output_type": "stream",
          "name": "stdout",
          "text": [
            "yrtnuoc ym si tarahB\n"
          ]
        }
      ]
    },
    {
      "cell_type": "code",
      "source": [
        "if string==rev_str:\n",
        "  print(\"this is a palindrome numbers:\")\n",
        "else:\n",
        "  print(\"this is not a palindrome numbers:\")"
      ],
      "metadata": {
        "colab": {
          "base_uri": "https://localhost:8080/"
        },
        "id": "U_QQLOJDs4HW",
        "outputId": "fee6ef49-6500-4c19-e709-67d47f8db2d8"
      },
      "execution_count": 27,
      "outputs": [
        {
          "output_type": "stream",
          "name": "stdout",
          "text": [
            "this is not a palindrome numbers:\n"
          ]
        }
      ]
    },
    {
      "cell_type": "code",
      "source": [
        "def sum_of_cube(num):\n",
        "  sum = 0\n",
        "  for i in range(num+1):\n",
        "    cube = i**3\n",
        "    sum = sum+cube\n",
        "  return sum\n",
        "\n",
        ""
      ],
      "metadata": {
        "id": "J9Iza-F1tLsw"
      },
      "execution_count": 28,
      "outputs": []
    },
    {
      "cell_type": "code",
      "source": [
        "sum_of_cube(3)"
      ],
      "metadata": {
        "colab": {
          "base_uri": "https://localhost:8080/"
        },
        "id": "-FqsWkxItL9V",
        "outputId": "2c9badd8-ac02-4633-a0ca-44258db7d8c8"
      },
      "execution_count": 29,
      "outputs": [
        {
          "output_type": "execute_result",
          "data": {
            "text/plain": [
              "36"
            ]
          },
          "metadata": {},
          "execution_count": 29
        }
      ]
    },
    {
      "cell_type": "code",
      "source": [
        "def cube(nums):\n",
        "  sum = 0\n",
        "  for i in range(nums+1):\n",
        "    cube = i**3\n",
        "    sum = sum+cube\n",
        "  return sum\n",
        "\n"
      ],
      "metadata": {
        "id": "Z-wVOzRzuOHd"
      },
      "execution_count": 34,
      "outputs": []
    },
    {
      "cell_type": "code",
      "source": [
        "cube(2)"
      ],
      "metadata": {
        "colab": {
          "base_uri": "https://localhost:8080/"
        },
        "id": "HL_e97cnu23O",
        "outputId": "102dc421-a9be-41bc-a417-fb512b96259d"
      },
      "execution_count": 35,
      "outputs": [
        {
          "output_type": "execute_result",
          "data": {
            "text/plain": [
              "9"
            ]
          },
          "metadata": {},
          "execution_count": 35
        }
      ]
    },
    {
      "cell_type": "code",
      "source": [
        "num = [4,5,3,2,78,96,43,23,12]\n",
        "largest_num = max(num)\n",
        "print(largest_num)"
      ],
      "metadata": {
        "colab": {
          "base_uri": "https://localhost:8080/"
        },
        "id": "ASJD6yh9u25v",
        "outputId": "2e21133e-55f1-42ec-cb1f-4bff19c4b1c7"
      },
      "execution_count": 36,
      "outputs": [
        {
          "output_type": "stream",
          "name": "stdout",
          "text": [
            "96\n"
          ]
        }
      ]
    },
    {
      "cell_type": "code",
      "source": [
        "def get_minvalue(lst):\n",
        "  lowest = lst[0]\n",
        "  for num in lst:\n",
        "    if num<lowest:\n",
        "      lowest = num\n",
        "  return lowest"
      ],
      "metadata": {
        "id": "Ci-OOebTu28A"
      },
      "execution_count": 53,
      "outputs": []
    },
    {
      "cell_type": "code",
      "source": [
        "lowest_num = [3,4,2,7,6,5,9]\n",
        "print(get_minvalue(lowest_num))\n",
        "\n"
      ],
      "metadata": {
        "colab": {
          "base_uri": "https://localhost:8080/"
        },
        "id": "F6uHlxvBu2-n",
        "outputId": "2f147c16-b06b-4a0f-8392-ad052144f798"
      },
      "execution_count": 54,
      "outputs": [
        {
          "output_type": "stream",
          "name": "stdout",
          "text": [
            "2\n"
          ]
        }
      ]
    },
    {
      "cell_type": "code",
      "source": [
        "def max_value(lst):\n",
        "  max = lst[0]\n",
        "  for i in lst:\n",
        "    if i>max:\n",
        "      max = i\n",
        "  return max\n",
        "\n",
        "lst1 = [3,4,5,6,34,56,23,43,25]\n",
        "print(max_value(lst1))\n",
        "\n"
      ],
      "metadata": {
        "colab": {
          "base_uri": "https://localhost:8080/"
        },
        "id": "OQTbSOcju3AV",
        "outputId": "3d653ff1-abb0-478c-c65a-5e1ff8f90702"
      },
      "execution_count": 55,
      "outputs": [
        {
          "output_type": "stream",
          "name": "stdout",
          "text": [
            "56\n"
          ]
        }
      ]
    },
    {
      "cell_type": "code",
      "source": [
        "lst1 = [3,4,5,6,34,56,23,43,25]\n",
        "\n",
        "def get_sum(lst1):\n",
        "  sum = 0\n",
        "  for num in lst1:\n",
        "    sum = sum+num\n",
        "  return sum\n",
        "\n",
        "print(get_sum(lst1))\n",
        "\n"
      ],
      "metadata": {
        "colab": {
          "base_uri": "https://localhost:8080/"
        },
        "id": "2vvmAuVVu3D2",
        "outputId": "62c2d2bd-1ffc-4610-8a4f-fcbb9659cf88"
      },
      "execution_count": 56,
      "outputs": [
        {
          "output_type": "stream",
          "name": "stdout",
          "text": [
            "199\n"
          ]
        }
      ]
    },
    {
      "cell_type": "code",
      "source": [
        "def remove_duplicates(lst1,lst2):\n",
        "  new_lst = []\n",
        "  for items in lst1:\n",
        "    if items in lst2:\n",
        "      new_lst.append(items)\n",
        "  return new_lst"
      ],
      "metadata": {
        "id": "F0czL4FEuOKI"
      },
      "execution_count": 57,
      "outputs": []
    },
    {
      "cell_type": "code",
      "source": [
        "lst1 = [2,3,4,5,6,87,6,5,43,56]\n",
        "lst2 = [3,4,5,6,3,27,8,97,6,4]\n",
        "remove_duplicates(lst1,lst2)"
      ],
      "metadata": {
        "colab": {
          "base_uri": "https://localhost:8080/"
        },
        "id": "63XbyjaJuONp",
        "outputId": "16dfda84-1151-457c-ea51-c4a2acc4ffc7"
      },
      "execution_count": 59,
      "outputs": [
        {
          "output_type": "execute_result",
          "data": {
            "text/plain": [
              "[3, 4, 5, 6, 6, 5]"
            ]
          },
          "metadata": {},
          "execution_count": 59
        }
      ]
    },
    {
      "cell_type": "code",
      "source": [
        "string = [\"a\",\"b\",\"c\",\"d\",\"e\",\"f\",\"g\",\"h\",\"i\",\"j\",\"k\",\"l\",\"m\"]\n",
        "for i in string:\n",
        "  if i==\"a\":\n",
        "    print(\"a is present in the list\")\n",
        "    break\n",
        "else:\n",
        "  print(\"false\")"
      ],
      "metadata": {
        "colab": {
          "base_uri": "https://localhost:8080/"
        },
        "id": "1vCDa6cb4bko",
        "outputId": "59069fd6-6e77-431f-f27b-b81c1b59951d"
      },
      "execution_count": 61,
      "outputs": [
        {
          "output_type": "stream",
          "name": "stdout",
          "text": [
            "a is present in the list\n"
          ]
        }
      ]
    },
    {
      "cell_type": "code",
      "source": [
        "string = [\"a\",\"b\",\"c\",\"d\",\"e\",\"f\",\"g\",\"h\",\"i\",\"j\",\"k\",\"l\",\"m\"]\n",
        "i = string[0]\n",
        "if i not in string:\n",
        "  print(\"False\")\n",
        "else:\n",
        "  print(\"True\")\n"
      ],
      "metadata": {
        "colab": {
          "base_uri": "https://localhost:8080/"
        },
        "id": "eKmMuyLQ4bnb",
        "outputId": "8907fbb6-0404-42a3-babc-482df8cd37fe"
      },
      "execution_count": 63,
      "outputs": [
        {
          "output_type": "stream",
          "name": "stdout",
          "text": [
            "True\n"
          ]
        }
      ]
    },
    {
      "cell_type": "code",
      "source": [
        "## Sum of squares:\n",
        "def sum_of_square(nums):\n",
        "  sum = 0\n",
        "  for i in range(nums+1):\n",
        "    square = i**2\n",
        "    sum = sum+square\n",
        "  return sum\n",
        "\n"
      ],
      "metadata": {
        "id": "1WPDmp5j4bqO"
      },
      "execution_count": 64,
      "outputs": []
    },
    {
      "cell_type": "code",
      "source": [
        "sum_of_square(4)"
      ],
      "metadata": {
        "colab": {
          "base_uri": "https://localhost:8080/"
        },
        "id": "PiqZjnek4btx",
        "outputId": "a06a7f7e-7a6e-446f-aa91-09d09d951f5c"
      },
      "execution_count": 65,
      "outputs": [
        {
          "output_type": "execute_result",
          "data": {
            "text/plain": [
              "30"
            ]
          },
          "metadata": {},
          "execution_count": 65
        }
      ]
    },
    {
      "cell_type": "code",
      "source": [],
      "metadata": {
        "id": "3MqDJthH7nRA"
      },
      "execution_count": 70,
      "outputs": []
    },
    {
      "cell_type": "code",
      "source": [
        "## find out the second largest number\n",
        "\n",
        "lst1 = [3,4,5,6,3,27,8,97,6,4]\n",
        "\n",
        "lst1.sort()\n",
        "print(lst1)"
      ],
      "metadata": {
        "colab": {
          "base_uri": "https://localhost:8080/"
        },
        "id": "DMK2O7cI7AsB",
        "outputId": "2ae47afa-6568-47ac-cf89-cb8bc0bccc6e"
      },
      "execution_count": 73,
      "outputs": [
        {
          "output_type": "stream",
          "name": "stdout",
          "text": [
            "[3, 3, 4, 4, 5, 6, 6, 8, 27, 97]\n"
          ]
        }
      ]
    },
    {
      "cell_type": "code",
      "source": [
        "import itertools"
      ],
      "metadata": {
        "id": "cUu5R0DN7Aum"
      },
      "execution_count": 74,
      "outputs": []
    },
    {
      "cell_type": "code",
      "source": [
        "def find_permutations(string):\n",
        "  characters = list(string)\n",
        "  permutations = list(itertools.permutations(characters))\n",
        "\n",
        "  permutations = [' '.join(permutation) for permutation in permutations]\n",
        "\n",
        "  return permutations"
      ],
      "metadata": {
        "id": "4VBZeP1a7AxM"
      },
      "execution_count": 78,
      "outputs": []
    },
    {
      "cell_type": "code",
      "source": [
        "string = \"abc\"\n",
        "\n",
        "find_permutations(string)"
      ],
      "metadata": {
        "colab": {
          "base_uri": "https://localhost:8080/"
        },
        "id": "HxjrXE6s7Azw",
        "outputId": "59ee6180-8be8-4da3-8eb7-a7c9a70f1dc4"
      },
      "execution_count": 79,
      "outputs": [
        {
          "output_type": "execute_result",
          "data": {
            "text/plain": [
              "['abc', 'acb', 'bac', 'bca', 'cab', 'cba']"
            ]
          },
          "metadata": {},
          "execution_count": 79
        }
      ]
    },
    {
      "cell_type": "code",
      "source": [
        "def get_permutations(strings):\n",
        "  characters = list(strings)\n",
        "  permutations = list(itertools.permutations(characters))\n",
        "  permutations = [''.join(permutation) for permutation in permutations]\n",
        "  return permutations\n"
      ],
      "metadata": {
        "id": "92v85JI37A2Y"
      },
      "execution_count": 82,
      "outputs": []
    },
    {
      "cell_type": "code",
      "source": [
        "strings = \"ab\n",
        "\"\n",
        "\n",
        "get_permutations(strings)"
      ],
      "metadata": {
        "colab": {
          "base_uri": "https://localhost:8080/"
        },
        "id": "riOOV8vs7A6A",
        "outputId": "6d40fc1a-0f86-4a7a-d14b-d6828c1d7a97"
      },
      "execution_count": 85,
      "outputs": [
        {
          "output_type": "execute_result",
          "data": {
            "text/plain": [
              "['ab', 'ba']"
            ]
          },
          "metadata": {},
          "execution_count": 85
        }
      ]
    },
    {
      "cell_type": "code",
      "source": [
        "def integer_to_roman(num):\n",
        "  roman_numerals = {\n",
        "      1000: 'M',\n",
        "      900: 'CM',\n",
        "      500: 'D',\n",
        "      400: 'CD',\n",
        "      100: 'C',\n",
        "      90: 'XC',\n",
        "      50: 'L',\n",
        "      40: 'XL',\n",
        "      10: 'X',\n",
        "      9: 'IX',\n",
        "      5: 'V',\n",
        "      4: 'IV',\n",
        "      1: 'I'\n",
        "  }\n",
        "\n",
        "  roman = ' '\n",
        "  for value,symbol in roman_numerals.items():\n",
        "    while num>=value:\n",
        "      roman+=symbol\n",
        "      num-=value\n",
        "  return roman"
      ],
      "metadata": {
        "id": "RJWhd-ufDwc3"
      },
      "execution_count": 87,
      "outputs": []
    },
    {
      "cell_type": "code",
      "source": [
        "integer_to_roman(36)"
      ],
      "metadata": {
        "colab": {
          "base_uri": "https://localhost:8080/",
          "height": 36
        },
        "id": "4cznVTocDwgY",
        "outputId": "81617e0c-6eb4-46f3-9e40-03a351ee81f0"
      },
      "execution_count": 88,
      "outputs": [
        {
          "output_type": "execute_result",
          "data": {
            "text/plain": [
              "' XXXVI'"
            ],
            "application/vnd.google.colaboratory.intrinsic+json": {
              "type": "string"
            }
          },
          "metadata": {},
          "execution_count": 88
        }
      ]
    },
    {
      "cell_type": "code",
      "source": [
        "def num_to_roman(num):\n",
        "  roman_numerals = {\n",
        "\n",
        "        1000: 'M',\n",
        "      900: 'CM',\n",
        "      500: 'D',\n",
        "      400: 'CD',\n",
        "      100: 'C',\n",
        "      90: 'XC',\n",
        "      50: 'L',\n",
        "      40: 'XL',\n",
        "      10: 'X',\n",
        "      9: 'IX',\n",
        "      5: 'V',\n",
        "      4: 'IV',\n",
        "      1: 'I'\n",
        "  }\n",
        "\n",
        "  roman = ''\n",
        "  for value ,symbol in roman_numerals.items():\n",
        "    while num>=value:\n",
        "      roman+=symbol\n",
        "      num-=value\n",
        "  return roman\n"
      ],
      "metadata": {
        "id": "92VdZx_bHPvU"
      },
      "execution_count": 93,
      "outputs": []
    },
    {
      "cell_type": "code",
      "source": [
        "num_to_roman(86)"
      ],
      "metadata": {
        "colab": {
          "base_uri": "https://localhost:8080/",
          "height": 36
        },
        "id": "JpDXGGiPHPyu",
        "outputId": "a487f392-171d-4f1e-bbcd-7eb9a88ab9a6"
      },
      "execution_count": 94,
      "outputs": [
        {
          "output_type": "execute_result",
          "data": {
            "text/plain": [
              "'LXXXVI'"
            ],
            "application/vnd.google.colaboratory.intrinsic+json": {
              "type": "string"
            }
          },
          "metadata": {},
          "execution_count": 94
        }
      ]
    }
  ]
}